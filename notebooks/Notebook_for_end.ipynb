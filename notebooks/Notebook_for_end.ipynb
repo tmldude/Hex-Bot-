{
  "nbformat": 4,
  "nbformat_minor": 0,
  "metadata": {
    "colab": {
      "provenance": [],
      "gpuType": "V28",
      "machine_shape": "hm"
    },
    "kernelspec": {
      "name": "python3",
      "display_name": "Python 3"
    },
    "language_info": {
      "name": "python"
    },
    "accelerator": "TPU"
  },
  "cells": [
    {
      "cell_type": "code",
      "execution_count": 1,
      "metadata": {
        "id": "4CCqq_Cq6jNI",
        "colab": {
          "base_uri": "https://localhost:8080/"
        },
        "outputId": "f77ce42e-3762-42eb-ce25-8b8b665ec1d3"
      },
      "outputs": [
        {
          "output_type": "stream",
          "name": "stdout",
          "text": [
            "Collecting chess\n",
            "  Downloading chess-1.10.0-py3-none-any.whl (154 kB)\n",
            "\u001b[2K     \u001b[90m━━━━━━━━━━━━━━━━━━━━━━━━━━━━━━━━━━━━━━━━\u001b[0m \u001b[32m154.4/154.4 kB\u001b[0m \u001b[31m1.3 MB/s\u001b[0m eta \u001b[36m0:00:00\u001b[0m\n",
            "\u001b[?25hInstalling collected packages: chess\n",
            "Successfully installed chess-1.10.0\n"
          ]
        }
      ],
      "source": [
        "!pip install chess"
      ]
    },
    {
      "cell_type": "code",
      "source": [
        "!python -m pip install tensorflow"
      ],
      "metadata": {
        "colab": {
          "base_uri": "https://localhost:8080/"
        },
        "id": "8nKuYh2m8k98",
        "outputId": "7aa5e194-03ec-47e5-c6eb-9414d3d9b4a9"
      },
      "execution_count": 2,
      "outputs": [
        {
          "output_type": "stream",
          "name": "stdout",
          "text": [
            "Requirement already satisfied: tensorflow in /usr/local/lib/python3.10/dist-packages (2.15.0)\n",
            "Requirement already satisfied: absl-py>=1.0.0 in /usr/local/lib/python3.10/dist-packages (from tensorflow) (1.4.0)\n",
            "Requirement already satisfied: astunparse>=1.6.0 in /usr/local/lib/python3.10/dist-packages (from tensorflow) (1.6.3)\n",
            "Requirement already satisfied: flatbuffers>=23.5.26 in /usr/local/lib/python3.10/dist-packages (from tensorflow) (24.3.25)\n",
            "Requirement already satisfied: gast!=0.5.0,!=0.5.1,!=0.5.2,>=0.2.1 in /usr/local/lib/python3.10/dist-packages (from tensorflow) (0.5.4)\n",
            "Requirement already satisfied: google-pasta>=0.1.1 in /usr/local/lib/python3.10/dist-packages (from tensorflow) (0.2.0)\n",
            "Requirement already satisfied: h5py>=2.9.0 in /usr/local/lib/python3.10/dist-packages (from tensorflow) (3.11.0)\n",
            "Requirement already satisfied: libclang>=13.0.0 in /usr/local/lib/python3.10/dist-packages (from tensorflow) (18.1.1)\n",
            "Requirement already satisfied: ml-dtypes~=0.2.0 in /usr/local/lib/python3.10/dist-packages (from tensorflow) (0.2.0)\n",
            "Requirement already satisfied: numpy<2.0.0,>=1.23.5 in /usr/local/lib/python3.10/dist-packages (from tensorflow) (1.25.2)\n",
            "Requirement already satisfied: opt-einsum>=2.3.2 in /usr/local/lib/python3.10/dist-packages (from tensorflow) (3.3.0)\n",
            "Requirement already satisfied: packaging in /usr/local/lib/python3.10/dist-packages (from tensorflow) (24.0)\n",
            "Requirement already satisfied: protobuf!=4.21.0,!=4.21.1,!=4.21.2,!=4.21.3,!=4.21.4,!=4.21.5,<5.0.0dev,>=3.20.3 in /usr/local/lib/python3.10/dist-packages (from tensorflow) (3.20.3)\n",
            "Requirement already satisfied: setuptools in /usr/local/lib/python3.10/dist-packages (from tensorflow) (67.7.2)\n",
            "Requirement already satisfied: six>=1.12.0 in /usr/local/lib/python3.10/dist-packages (from tensorflow) (1.16.0)\n",
            "Requirement already satisfied: termcolor>=1.1.0 in /usr/local/lib/python3.10/dist-packages (from tensorflow) (2.4.0)\n",
            "Requirement already satisfied: typing-extensions>=3.6.6 in /usr/local/lib/python3.10/dist-packages (from tensorflow) (4.11.0)\n",
            "Requirement already satisfied: wrapt<1.15,>=1.11.0 in /usr/local/lib/python3.10/dist-packages (from tensorflow) (1.14.1)\n",
            "Requirement already satisfied: tensorflow-io-gcs-filesystem>=0.23.1 in /usr/local/lib/python3.10/dist-packages (from tensorflow) (0.37.0)\n",
            "Requirement already satisfied: grpcio<2.0,>=1.24.3 in /usr/local/lib/python3.10/dist-packages (from tensorflow) (1.63.0)\n",
            "Requirement already satisfied: tensorboard<2.16,>=2.15 in /usr/local/lib/python3.10/dist-packages (from tensorflow) (2.15.2)\n",
            "Requirement already satisfied: tensorflow-estimator<2.16,>=2.15.0 in /usr/local/lib/python3.10/dist-packages (from tensorflow) (2.15.0)\n",
            "Requirement already satisfied: keras<2.16,>=2.15.0 in /usr/local/lib/python3.10/dist-packages (from tensorflow) (2.15.0)\n",
            "Requirement already satisfied: wheel<1.0,>=0.23.0 in /usr/local/lib/python3.10/dist-packages (from astunparse>=1.6.0->tensorflow) (0.43.0)\n",
            "Requirement already satisfied: google-auth<3,>=1.6.3 in /usr/local/lib/python3.10/dist-packages (from tensorboard<2.16,>=2.15->tensorflow) (2.27.0)\n",
            "Requirement already satisfied: google-auth-oauthlib<2,>=0.5 in /usr/local/lib/python3.10/dist-packages (from tensorboard<2.16,>=2.15->tensorflow) (1.2.0)\n",
            "Requirement already satisfied: markdown>=2.6.8 in /usr/local/lib/python3.10/dist-packages (from tensorboard<2.16,>=2.15->tensorflow) (3.6)\n",
            "Requirement already satisfied: requests<3,>=2.21.0 in /usr/local/lib/python3.10/dist-packages (from tensorboard<2.16,>=2.15->tensorflow) (2.31.0)\n",
            "Requirement already satisfied: tensorboard-data-server<0.8.0,>=0.7.0 in /usr/local/lib/python3.10/dist-packages (from tensorboard<2.16,>=2.15->tensorflow) (0.7.2)\n",
            "Requirement already satisfied: werkzeug>=1.0.1 in /usr/local/lib/python3.10/dist-packages (from tensorboard<2.16,>=2.15->tensorflow) (3.0.3)\n",
            "Requirement already satisfied: cachetools<6.0,>=2.0.0 in /usr/local/lib/python3.10/dist-packages (from google-auth<3,>=1.6.3->tensorboard<2.16,>=2.15->tensorflow) (5.3.3)\n",
            "Requirement already satisfied: pyasn1-modules>=0.2.1 in /usr/local/lib/python3.10/dist-packages (from google-auth<3,>=1.6.3->tensorboard<2.16,>=2.15->tensorflow) (0.4.0)\n",
            "Requirement already satisfied: rsa<5,>=3.1.4 in /usr/local/lib/python3.10/dist-packages (from google-auth<3,>=1.6.3->tensorboard<2.16,>=2.15->tensorflow) (4.9)\n",
            "Requirement already satisfied: requests-oauthlib>=0.7.0 in /usr/local/lib/python3.10/dist-packages (from google-auth-oauthlib<2,>=0.5->tensorboard<2.16,>=2.15->tensorflow) (2.0.0)\n",
            "Requirement already satisfied: charset-normalizer<4,>=2 in /usr/local/lib/python3.10/dist-packages (from requests<3,>=2.21.0->tensorboard<2.16,>=2.15->tensorflow) (3.3.2)\n",
            "Requirement already satisfied: idna<4,>=2.5 in /usr/local/lib/python3.10/dist-packages (from requests<3,>=2.21.0->tensorboard<2.16,>=2.15->tensorflow) (3.7)\n",
            "Requirement already satisfied: urllib3<3,>=1.21.1 in /usr/local/lib/python3.10/dist-packages (from requests<3,>=2.21.0->tensorboard<2.16,>=2.15->tensorflow) (2.0.7)\n",
            "Requirement already satisfied: certifi>=2017.4.17 in /usr/local/lib/python3.10/dist-packages (from requests<3,>=2.21.0->tensorboard<2.16,>=2.15->tensorflow) (2024.2.2)\n",
            "Requirement already satisfied: MarkupSafe>=2.1.1 in /usr/local/lib/python3.10/dist-packages (from werkzeug>=1.0.1->tensorboard<2.16,>=2.15->tensorflow) (2.1.5)\n",
            "Requirement already satisfied: pyasn1<0.7.0,>=0.4.6 in /usr/local/lib/python3.10/dist-packages (from pyasn1-modules>=0.2.1->google-auth<3,>=1.6.3->tensorboard<2.16,>=2.15->tensorflow) (0.6.0)\n",
            "Requirement already satisfied: oauthlib>=3.0.0 in /usr/local/lib/python3.10/dist-packages (from requests-oauthlib>=0.7.0->google-auth-oauthlib<2,>=0.5->tensorboard<2.16,>=2.15->tensorflow) (3.2.2)\n"
          ]
        }
      ]
    },
    {
      "cell_type": "code",
      "source": [
        "!pip install --upgrade nvidia-pyindex\n",
        "!nvidia-smi"
      ],
      "metadata": {
        "colab": {
          "base_uri": "https://localhost:8080/"
        },
        "id": "_BxF2juw8wOW",
        "outputId": "0b33486e-0b28-4591-b0c8-0db972950f63"
      },
      "execution_count": 3,
      "outputs": [
        {
          "output_type": "stream",
          "name": "stdout",
          "text": [
            "Collecting nvidia-pyindex\n",
            "  Downloading nvidia-pyindex-1.0.9.tar.gz (10 kB)\n",
            "  Preparing metadata (setup.py) ... \u001b[?25l\u001b[?25hdone\n",
            "Building wheels for collected packages: nvidia-pyindex\n",
            "  Building wheel for nvidia-pyindex (setup.py) ... \u001b[?25l\u001b[?25hdone\n",
            "  Created wheel for nvidia-pyindex: filename=nvidia_pyindex-1.0.9-py3-none-any.whl size=8419 sha256=d330eda46bec4c3d4827ce3bbc509ced1ef904a8b82c5963f37f96fe8c2dd7e9\n",
            "  Stored in directory: /root/.cache/pip/wheels/2c/af/d0/7a12f82cab69f65d51107f48bcd6179e29b9a69a90546332b3\n",
            "Successfully built nvidia-pyindex\n",
            "Installing collected packages: nvidia-pyindex\n",
            "Successfully installed nvidia-pyindex-1.0.9\n",
            "/bin/bash: line 1: nvidia-smi: command not found\n"
          ]
        }
      ]
    },
    {
      "cell_type": "code",
      "source": [
        "from google.colab import drive\n",
        "drive.mount('/content/drive')"
      ],
      "metadata": {
        "colab": {
          "base_uri": "https://localhost:8080/"
        },
        "id": "OfA_RRN04WG2",
        "outputId": "bf58a6d6-b8e3-40b8-beb8-ebfe06fd47b4"
      },
      "execution_count": 4,
      "outputs": [
        {
          "output_type": "stream",
          "name": "stdout",
          "text": [
            "Mounted at /content/drive\n"
          ]
        }
      ]
    },
    {
      "cell_type": "code",
      "source": [
        "# pulling in the data\n",
        "import json\n",
        "\n",
        "data_path = '/content/drive/MyDrive/100k/chess_dataset_end_100k.json'\n",
        "\n",
        "with open(data_path, 'r') as file:\n",
        "    data = json.load(file)"
      ],
      "metadata": {
        "id": "yO9P1v52-1vF"
      },
      "execution_count": 5,
      "outputs": []
    },
    {
      "cell_type": "code",
      "source": [
        "total_samples = len(data)\n",
        "train_end = int(0.8 * total_samples)\n",
        "val_end = int(0.9 * total_samples)"
      ],
      "metadata": {
        "id": "rcGmS28h9kFg"
      },
      "execution_count": 6,
      "outputs": []
    },
    {
      "cell_type": "code",
      "source": [
        "import numpy as np\n",
        "import chess\n",
        "from tensorflow.keras.utils import Sequence"
      ],
      "metadata": {
        "id": "IbGbR9NyCwNu"
      },
      "execution_count": 7,
      "outputs": []
    },
    {
      "cell_type": "code",
      "source": [
        "#@title Binary Board\n",
        "class BinaryBoard:\n",
        "\n",
        "    # Constants for colors\n",
        "    WHITE = 0\n",
        "    BLACK = 1\n",
        "\n",
        "    # BOARD MASKS\n",
        "\n",
        "    ALL_DEFINED = 0xffffffffffffffff\n",
        "\n",
        "    # BOUNDARIES\n",
        "\n",
        "    NOT_A_FILE = 0xfefefefefefefefe\n",
        "    NOT_H_FILE = 0x7f7f7f7f7f7f7f7f\n",
        "\n",
        "    NOT_AB_FILE = 0xfcfcfcfcfcfcfcfc\n",
        "    NOT_GH_FILE = 0x3f3f3f3f3f3f3f3f\n",
        "\n",
        "    NOT_RANK_1 = ~0xff\n",
        "    NOT_RANK_8 = ~0xff00000000000000\n",
        "\n",
        "    def __init__(self, fen: str) -> None:\n",
        "        self.piece_boards, self.board_data = self.fen_to_binary_boards(fen)\n",
        "\n",
        "        self.combined_board = 0\n",
        "        for bitboard in self.piece_boards.values():\n",
        "            self.combined_board |= bitboard\n",
        "\n",
        "    \"\"\"\n",
        "    Given a board and a square, returns the hex number at the square\n",
        "    other returns the square on a board not self\n",
        "    \"\"\"\n",
        "\n",
        "    def binary_to_piece(self, square, other=None) -> int:\n",
        "        if other:\n",
        "            return other >> (square & 0x1)\n",
        "        return self.combined_board >> (square & 0x1)\n",
        "\n",
        "    # FEN\n",
        "\n",
        "    def fen_to_square_number(self, fen_square):\n",
        "        if fen_square == \"-\":\n",
        "            return -1\n",
        "\n",
        "        files = \"abcdefgh\"\n",
        "        ranks = \"87654321\"\n",
        "\n",
        "        file = fen_square[0]\n",
        "        rank = fen_square[1]\n",
        "\n",
        "        file_index = files.index(file)\n",
        "        rank_index = ranks.index(rank)\n",
        "\n",
        "        square_number = rank_index * 8 + file_index\n",
        "\n",
        "        return square_number\n",
        "\n",
        "    def fen_to_binary_boards(self, fen: str) -> dict[str, int]:\n",
        "        pieces = 'PNBRQKpnbrqk'\n",
        "        boards = {piece: 0 for piece in pieces}\n",
        "\n",
        "        split = fen.split(' ')\n",
        "        positions = split[0]\n",
        "        row = 0\n",
        "        for rank in positions.split('/'):\n",
        "            col = 0\n",
        "            for char in rank:\n",
        "                if char.isdigit():\n",
        "                    col += int(char)\n",
        "                else:\n",
        "                    index = pieces.index(char)\n",
        "                    board_index = 8 * (7 - row) + col\n",
        "                    boards[char] |= 1 << board_index\n",
        "                    col += 1\n",
        "            row += 1\n",
        "\n",
        "        color = 0 if split[1] == 'w' else 1\n",
        "        castle_K = 1 if 'K' in split[2] else 0\n",
        "        castle_Q = 1 if 'Q' in split[2] else 0\n",
        "        castle_k = 1 if 'k' in split[2] else 0\n",
        "        castle_q = 1 if 'q' in split[2] else 0\n",
        "        en_passant = self.fen_to_square_number(\n",
        "            split[3]) if split[3] != '-' else 0\n",
        "        half_move = int(split[4])\n",
        "        full_move = int(split[5]) if len(split) >= 5 else 0\n",
        "\n",
        "        board_data = [color, castle_K, castle_Q, castle_k,\n",
        "                      castle_q, en_passant, half_move, full_move]\n",
        "\n",
        "        return boards, board_data\n",
        "\n",
        "    # LINEAR MOVES\n",
        "\n",
        "    @staticmethod\n",
        "    def nortOne(b) -> int:\n",
        "        return b << 8\n",
        "\n",
        "    @staticmethod\n",
        "    def soutOne(b) -> int:\n",
        "        return b >> 8\n",
        "\n",
        "    @staticmethod\n",
        "    def eastOne(b) -> int:\n",
        "        return (b << 1) & BinaryBoard.NOT_A_FILE\n",
        "\n",
        "    # DIAG MOVES\n",
        "\n",
        "    @staticmethod\n",
        "    def noEaOne(b) -> int:\n",
        "        return (b << 9) & BinaryBoard.NOT_A_FILE\n",
        "\n",
        "    @staticmethod\n",
        "    def soEaOne(b) -> int:\n",
        "        return (b >> 7) & BinaryBoard.NOT_A_FILE\n",
        "\n",
        "    @staticmethod\n",
        "    def westOne(b) -> int:\n",
        "        return (b >> 1) & BinaryBoard.NOT_H_FILE\n",
        "\n",
        "    @staticmethod\n",
        "    def soWeOne(b) -> int:\n",
        "        return (b >> 9) & BinaryBoard.NOT_H_FILE\n",
        "\n",
        "    @staticmethod\n",
        "    def noWeOne(b) -> int:\n",
        "        return (b << 7) & BinaryBoard.NOT_H_FILE\n",
        "\n",
        "    @staticmethod\n",
        "    def noNoEa(bitboard) -> int:\n",
        "        return (bitboard << 17) & BinaryBoard.NOT_A_FILE\n",
        "\n",
        "    # KNIGHT MOVES\n",
        "\n",
        "    @staticmethod\n",
        "    def noEaEa(bitboard) -> int:\n",
        "        return (bitboard << 10) & BinaryBoard.NOT_AB_FILE\n",
        "\n",
        "    @staticmethod\n",
        "    def soEaEa(bitboard) -> int:\n",
        "        return (bitboard >> 6) & BinaryBoard.NOT_AB_FILE\n",
        "\n",
        "    @staticmethod\n",
        "    def soSoEa(bitboard) -> int:\n",
        "        return (bitboard >> 15) & BinaryBoard.NOT_A_FILE\n",
        "\n",
        "    @staticmethod\n",
        "    def noNoWe(bitboard) -> int:\n",
        "        return (bitboard << 15) & BinaryBoard.NOT_H_FILE\n",
        "\n",
        "    @staticmethod\n",
        "    def noWeWe(bitboard) -> int:\n",
        "        return (bitboard << 6) & BinaryBoard.NOT_GH_FILE\n",
        "\n",
        "    @staticmethod\n",
        "    def soWeWe(bitboard) -> int:\n",
        "        return (bitboard >> 10) & BinaryBoard.NOT_GH_FILE\n",
        "\n",
        "    @staticmethod\n",
        "    def soSoWe(bitboard) -> int:\n",
        "        return (bitboard >> 17) & BinaryBoard.NOT_H_FILE\n",
        "\n",
        "    # SLIDE MOVES\n",
        "\n",
        "    def _get_slide(self, bitboard, direction, boundary1, boundary2) -> int:\n",
        "        next_boards = 0\n",
        "\n",
        "        dir_bitboard: int = direction(bitboard)\n",
        "        not_blocked = True\n",
        "\n",
        "        while not_blocked and (dir_bitboard & boundary1) and (dir_bitboard & boundary2):\n",
        "            next_boards |= dir_bitboard\n",
        "\n",
        "            # update if hitting white or black piece to stop while loop\n",
        "            not_blocked = dir_bitboard & self.combined_board == 0\n",
        "\n",
        "            # moving up, down, left, right, or diag one position\n",
        "            dir_bitboard = direction(dir_bitboard)\n",
        "\n",
        "        added = False\n",
        "        if dir_bitboard & ~boundary1 and not_blocked:\n",
        "            next_boards |= dir_bitboard\n",
        "            added = True\n",
        "\n",
        "        if dir_bitboard & ~boundary2 and not_blocked and not added:\n",
        "            next_boards |= dir_bitboard\n",
        "\n",
        "        return next_boards\n",
        "\n",
        "    def getNoSlide(self, bitboard) -> int:\n",
        "        return self._get_slide(bitboard, BinaryBoard.nortOne, BinaryBoard.NOT_RANK_8, BinaryBoard.ALL_DEFINED)\n",
        "\n",
        "    def getSoSlide(self, bitboard) -> int:\n",
        "        return self._get_slide(bitboard, BinaryBoard.soutOne, BinaryBoard.NOT_RANK_1, BinaryBoard.ALL_DEFINED)\n",
        "\n",
        "    def getEaSlide(self, bitboard) -> int:\n",
        "        return self._get_slide(bitboard, BinaryBoard.eastOne, BinaryBoard.NOT_H_FILE, BinaryBoard.ALL_DEFINED)\n",
        "\n",
        "    def getWeSlide(self, bitboard) -> int:\n",
        "        return self._get_slide(bitboard, BinaryBoard.westOne, BinaryBoard.NOT_A_FILE, BinaryBoard.ALL_DEFINED)\n",
        "\n",
        "    def getNoEaSlide(self, bitboard) -> int:\n",
        "        return self._get_slide(bitboard, BinaryBoard.noEaOne, BinaryBoard.NOT_RANK_8, BinaryBoard.NOT_H_FILE)\n",
        "\n",
        "    def getNoWeSlide(self, bitboard) -> int:\n",
        "        return self._get_slide(bitboard, BinaryBoard.noWeOne, BinaryBoard.NOT_RANK_8, BinaryBoard.NOT_A_FILE)\n",
        "\n",
        "    def getSoEaSlide(self, bitboard) -> int:\n",
        "        return self._get_slide(bitboard, BinaryBoard.soEaOne, BinaryBoard.NOT_RANK_1, BinaryBoard.NOT_H_FILE)\n",
        "\n",
        "    def getSoWeSlide(self, bitboard) -> int:\n",
        "        return self._get_slide(bitboard, BinaryBoard.soWeOne, BinaryBoard.NOT_RANK_1, BinaryBoard.NOT_A_FILE)\n",
        "\n",
        "    # PIECE MOVES\n",
        "\n",
        "    def _get_moves(self, bitboard: int, direction_fns) -> int:\n",
        "        next_boards = 0\n",
        "\n",
        "        for get_dir_boards in direction_fns:\n",
        "            boards = get_dir_boards(bitboard)\n",
        "            next_boards |= boards\n",
        "\n",
        "        return next_boards\n",
        "\n",
        "    def knight_moves(self, bitboard: int) -> int:\n",
        "        directions = [self.noNoEa, self.noEaEa, self.noNoWe, self.noWeWe,\n",
        "                      self.soSoEa, self.soEaEa, self.soSoWe, self.soWeWe]\n",
        "        return self._get_moves(bitboard, directions)\n",
        "\n",
        "    def rook_moves(self, bitboard: int) -> int:\n",
        "        directions = [self.getNoSlide, self.getEaSlide,\n",
        "                      self.getSoSlide, self.getWeSlide]\n",
        "        return self._get_moves(bitboard, directions)\n",
        "\n",
        "    def bishop_moves(self, bitboard: int) -> int:\n",
        "        directions = [self.getNoEaSlide, self.getNoWeSlide,\n",
        "                      self.getSoEaSlide, self.getSoWeSlide]\n",
        "        return self._get_moves(bitboard, directions)\n",
        "\n",
        "    def queen_moves(self, bitboard: int) -> int:\n",
        "        directions = [self.getNoSlide, self.getEaSlide, self.getSoSlide, self.getWeSlide,  # rook moves\n",
        "                      self.getNoEaSlide, self.getNoWeSlide, self.getSoEaSlide, self.getSoWeSlide]  # bishop moves\n",
        "        return self._get_moves(bitboard, directions)\n",
        "\n",
        "    def king_moves(self, bitboard: int) -> int:\n",
        "        directions = [self.nortOne, self.soutOne, self.eastOne, self.westOne,\n",
        "                      self.noEaOne, self.noWeOne, self.soEaOne, self.soWeOne]\n",
        "        return self._get_moves(bitboard, directions)\n",
        "\n",
        "    # ATTACKS\n",
        "\n",
        "    def pawn_attacks_white(self, bitboard) -> int:\n",
        "        attacks = 0\n",
        "\n",
        "        noWeOne_bitboard = self.noWeOne(bitboard) & self.NOT_H_FILE\n",
        "        noEaOne_bitboard = self.noEaOne(bitboard) & self.NOT_A_FILE\n",
        "\n",
        "        attacks |= noWeOne_bitboard\n",
        "        attacks |= noEaOne_bitboard\n",
        "\n",
        "        return attacks\n",
        "\n",
        "    def pawn_attacks_black(self, bitboard) -> int:\n",
        "        attacks = 0\n",
        "\n",
        "        soWeOne_bitboard = self.soWeOne(bitboard) & self.NOT_H_FILE\n",
        "        soEaOne_bitboard = self.soEaOne(bitboard) & self.NOT_A_FILE\n",
        "\n",
        "        attacks |= soWeOne_bitboard\n",
        "        attacks |= soEaOne_bitboard\n",
        "\n",
        "        return attacks\n",
        "\n",
        "    # MAIN FUNCTIONS\n",
        "\n",
        "    def generate_attack_board(self, color_to_look_for) -> int:\n",
        "        attack_board = 0x0\n",
        "\n",
        "        if color_to_look_for == self.WHITE:\n",
        "            attack_board |= self.rook_moves(self.piece_boards['R'])\n",
        "            attack_board |= self.knight_moves(self.piece_boards['N'])\n",
        "            attack_board |= self.bishop_moves(self.piece_boards['B'])\n",
        "            attack_board |= self.queen_moves(self.piece_boards['Q'])\n",
        "            attack_board |= self.king_moves(self.piece_boards['K'])\n",
        "            attack_board |= self.pawn_attacks_white(self.piece_boards['P'])\n",
        "        else:\n",
        "            attack_board |= self.rook_moves(self.piece_boards['r'])\n",
        "            attack_board |= self.knight_moves(self.piece_boards['n'])\n",
        "            attack_board |= self.bishop_moves(self.piece_boards['b'])\n",
        "            attack_board |= self.queen_moves(self.piece_boards['q'])\n",
        "            attack_board |= self.king_moves(self.piece_boards['k'])\n",
        "            attack_board |= self.pawn_attacks_black(self.piece_boards['p'])\n",
        "\n",
        "        return attack_board & self.ALL_DEFINED\n",
        "\n",
        "    \"\"\"\n",
        "    Output: 22x8x8 (last 2 are attack boards for white and black, resp.)\n",
        "    \"\"\"\n",
        "\n",
        "    def generate_board_matrix(self) -> list[list[list[int]]]:\n",
        "\n",
        "        boards = [self.piece_boards['R'],\n",
        "                  self.piece_boards['N'],\n",
        "                  self.piece_boards['B'],\n",
        "                  self.piece_boards['Q'],\n",
        "                  self.piece_boards['K'],\n",
        "                  self.piece_boards['P'],\n",
        "                  self.piece_boards['r'],\n",
        "                  self.piece_boards['n'],\n",
        "                  self.piece_boards['b'],\n",
        "                  self.piece_boards['q'],\n",
        "                  self.piece_boards['k'],\n",
        "                  self.piece_boards['p'],\n",
        "                  self.generate_attack_board(0),  # white attack board\n",
        "                  self.generate_attack_board(1)  # black attack board\n",
        "                  ]\n",
        "\n",
        "        boards += self.board_data\n",
        "\n",
        "        matrix = []\n",
        "        for board in boards:\n",
        "            matrix.append(BinaryBoard.bitboard_to_matrix(board))\n",
        "\n",
        "        return matrix\n",
        "\n",
        "      # UTILS\n",
        "\n",
        "    @staticmethod\n",
        "    def bitboard_to_matrix(bitboard: int) -> list[list[int]]:\n",
        "        matrix = []\n",
        "        for row in range(8):\n",
        "            current_row = []\n",
        "            for col in range(8):\n",
        "                index = (7 - row) * 8 + col\n",
        "                if bitboard & (1 << index):\n",
        "                    current_row.append(1)\n",
        "                else:\n",
        "                    current_row.append(0)\n",
        "            matrix.append(current_row)\n",
        "        return matrix"
      ],
      "metadata": {
        "id": "aiPF74qn4tmm"
      },
      "execution_count": 8,
      "outputs": []
    },
    {
      "cell_type": "code",
      "source": [
        "#@title Data Generator\n",
        "class ChessDataGenerator(Sequence):\n",
        "    def __init__(self, data, batch_size=32, shuffle=True):\n",
        "        self.data = data\n",
        "        self.batch_size = batch_size\n",
        "        self.shuffle = shuffle\n",
        "        self.indices = np.arange(len(self.data))\n",
        "        self.on_epoch_end()\n",
        "\n",
        "    def __len__(self):\n",
        "        return int(np.floor(len(self.data) / self.batch_size))\n",
        "\n",
        "    def __getitem__(self, index):\n",
        "        indices = self.indices[index * self.batch_size:(index + 1) * self.batch_size]\n",
        "        batch = [self.data[i] for i in indices]\n",
        "        X, y = self.__data_generation(batch)\n",
        "        return X, y\n",
        "\n",
        "    def on_epoch_end(self):\n",
        "        if self.shuffle:\n",
        "            np.random.shuffle(self.indices)\n",
        "\n",
        "    def __data_generation(self, batch):\n",
        "        X = np.empty((self.batch_size, 22, 8, 8))\n",
        "        y = np.empty((self.batch_size), dtype=float)\n",
        "\n",
        "        for i, item in enumerate(batch):\n",
        "            X[i,] = self.fen_to_matrix(item[0])\n",
        "            y[i] = item[1] / 1000.0\n",
        "\n",
        "        return X, y\n",
        "\n",
        "    def fen_to_matrix(self, fen):\n",
        "        board = BinaryBoard(fen)\n",
        "        return board.generate_board_matrix()"
      ],
      "metadata": {
        "id": "17laVJmnCwLM"
      },
      "execution_count": 9,
      "outputs": []
    },
    {
      "cell_type": "code",
      "source": [
        "train_data = data[:train_end]\n",
        "val_data = data[train_end:val_end]\n",
        "test_data = data[val_end:]\n",
        "\n",
        "train_generator = ChessDataGenerator(train_data, batch_size=32, shuffle=True)\n",
        "val_generator = ChessDataGenerator(val_data, batch_size=32, shuffle=False)\n",
        "test_generator = ChessDataGenerator(test_data, batch_size=32, shuffle=False)"
      ],
      "metadata": {
        "id": "mIkuW4r7CwIG"
      },
      "execution_count": 18,
      "outputs": []
    },
    {
      "cell_type": "code",
      "source": [
        "import tensorflow as tf\n",
        "from tensorflow.keras.models import Sequential\n",
        "from tensorflow.keras.layers import Conv2D, Dense, Flatten, MaxPooling2D\n",
        "from tensorflow.keras.callbacks import ModelCheckpoint"
      ],
      "metadata": {
        "id": "Aw6MmmRqCwEQ"
      },
      "execution_count": 19,
      "outputs": []
    },
    {
      "cell_type": "code",
      "source": [
        "model = Sequential([\n",
        "    Conv2D(32, kernel_size=(3, 3), activation='relu', input_shape=(22, 8, 8)),\n",
        "    MaxPooling2D(pool_size=(2, 2)),\n",
        "    Conv2D(64, kernel_size=(3, 3), activation='relu'),\n",
        "    Flatten(),\n",
        "    Dense(128, activation='relu'),\n",
        "    Dense(1, activation='linear')\n",
        "])"
      ],
      "metadata": {
        "id": "plRojrMxCv6_"
      },
      "execution_count": 20,
      "outputs": []
    },
    {
      "cell_type": "code",
      "source": [
        "# Step 5: Compile the Model\n",
        "model.compile(optimizer='adam', loss='mean_squared_error', metrics=['mae'])"
      ],
      "metadata": {
        "id": "RbCg2AlI9kIJ"
      },
      "execution_count": 21,
      "outputs": []
    },
    {
      "cell_type": "code",
      "source": [
        "# Train the Model\n",
        "checkpoint_callback = ModelCheckpoint(\n",
        "    filepath='/content/drive/MyDrive/100k/model_checkpoint.h5',  # The path where the model will be saved\n",
        "    monitor='val_loss',              # The metric to monitor\n",
        "    save_best_only=True,             # Save only the best model\n",
        "    save_weights_only=False,         # Save the whole model (set to True to save only weights)\n",
        "    mode='auto',                     # The mode for monitoring\n",
        "    save_freq='epoch',               # Save frequency (can also be set to a number of batches)\n",
        "    verbose=1                        # Verbosity mode\n",
        ")\n",
        "history = model.fit(\n",
        "    train_generator,\n",
        "    epochs=12,\n",
        "    validation_data=val_generator,\n",
        "    callbacks=[checkpoint_callback]  # Include the checkpoint callback here\n",
        ")"
      ],
      "metadata": {
        "id": "LxOXxk2O9kKx",
        "colab": {
          "base_uri": "https://localhost:8080/"
        },
        "outputId": "828b976b-6eac-4d79-ace8-7f320aab17ab"
      },
      "execution_count": 23,
      "outputs": [
        {
          "metadata": {
            "tags": null
          },
          "name": "stdout",
          "output_type": "stream",
          "text": [
            "Epoch 1/12\n",
            "94666/94671 [============================>.] - ETA: 0s - loss: 0.0626 - mae: 0.1816\n",
            "Epoch 1: val_loss improved from inf to 0.05745, saving model to /content/drive/MyDrive/100k/model_checkpoint.h5\n",
            "94671/94671 [==============================] - 1916s 20ms/step - loss: 0.0626 - mae: 0.1816 - val_loss: 0.0575 - val_mae: 0.1717\n",
            "Epoch 2/12\n"
          ]
        },
        {
          "metadata": {
            "tags": null
          },
          "name": "stderr",
          "output_type": "stream",
          "text": [
            "/usr/local/lib/python3.10/dist-packages/keras/src/engine/training.py:3103: UserWarning: You are saving your model as an HDF5 file via `model.save()`. This file format is considered legacy. We recommend using instead the native Keras format, e.g. `model.save('my_model.keras')`.\n",
            "  saving_api.save_model(\n"
          ]
        },
        {
          "output_type": "stream",
          "name": "stdout",
          "text": [
            "94666/94671 [============================>.] - ETA: 0s - loss: 0.0544 - mae: 0.1669\n",
            "Epoch 2: val_loss improved from 0.05745 to 0.05622, saving model to /content/drive/MyDrive/100k/model_checkpoint.h5\n",
            "94671/94671 [==============================] - 1913s 20ms/step - loss: 0.0544 - mae: 0.1669 - val_loss: 0.0562 - val_mae: 0.1713\n",
            "Epoch 3/12\n",
            "94666/94671 [============================>.] - ETA: 0s - loss: 0.0526 - mae: 0.1634\n",
            "Epoch 3: val_loss improved from 0.05622 to 0.05372, saving model to /content/drive/MyDrive/100k/model_checkpoint.h5\n",
            "94671/94671 [==============================] - 1913s 20ms/step - loss: 0.0526 - mae: 0.1634 - val_loss: 0.0537 - val_mae: 0.1649\n",
            "Epoch 4/12\n",
            "94666/94671 [============================>.] - ETA: 0s - loss: 0.0517 - mae: 0.1617\n",
            "Epoch 4: val_loss did not improve from 0.05372\n",
            "94671/94671 [==============================] - 1919s 20ms/step - loss: 0.0517 - mae: 0.1617 - val_loss: 0.0541 - val_mae: 0.1661\n",
            "Epoch 5/12\n",
            "94667/94671 [============================>.] - ETA: 0s - loss: 0.0511 - mae: 0.1607\n",
            "Epoch 5: val_loss improved from 0.05372 to 0.05349, saving model to /content/drive/MyDrive/100k/model_checkpoint.h5\n",
            "94671/94671 [==============================] - 1914s 20ms/step - loss: 0.0511 - mae: 0.1607 - val_loss: 0.0535 - val_mae: 0.1661\n",
            "Epoch 6/12\n",
            "94667/94671 [============================>.] - ETA: 0s - loss: 0.0507 - mae: 0.1599\n",
            "Epoch 6: val_loss improved from 0.05349 to 0.05242, saving model to /content/drive/MyDrive/100k/model_checkpoint.h5\n",
            "94671/94671 [==============================] - 1951s 21ms/step - loss: 0.0507 - mae: 0.1599 - val_loss: 0.0524 - val_mae: 0.1619\n",
            "Epoch 7/12\n",
            "94667/94671 [============================>.] - ETA: 0s - loss: 0.0505 - mae: 0.1593\n",
            "Epoch 7: val_loss did not improve from 0.05242\n",
            "94671/94671 [==============================] - 1965s 21ms/step - loss: 0.0505 - mae: 0.1593 - val_loss: 0.0533 - val_mae: 0.1638\n",
            "Epoch 8/12\n",
            "94665/94671 [============================>.] - ETA: 0s - loss: 0.0503 - mae: 0.1590\n",
            "Epoch 8: val_loss did not improve from 0.05242\n",
            "94671/94671 [==============================] - 1964s 21ms/step - loss: 0.0503 - mae: 0.1590 - val_loss: 0.0529 - val_mae: 0.1608\n",
            "Epoch 9/12\n",
            "94665/94671 [============================>.] - ETA: 0s - loss: 0.0502 - mae: 0.1587\n",
            "Epoch 9: val_loss did not improve from 0.05242\n",
            "94671/94671 [==============================] - 1962s 21ms/step - loss: 0.0502 - mae: 0.1587 - val_loss: 0.0534 - val_mae: 0.1639\n",
            "Epoch 10/12\n",
            "94671/94671 [==============================] - ETA: 0s - loss: 0.0500 - mae: 0.1584\n",
            "Epoch 10: val_loss improved from 0.05242 to 0.05241, saving model to /content/drive/MyDrive/100k/model_checkpoint.h5\n",
            "94671/94671 [==============================] - 1977s 21ms/step - loss: 0.0500 - mae: 0.1584 - val_loss: 0.0524 - val_mae: 0.1598\n",
            "Epoch 11/12\n",
            "94666/94671 [============================>.] - ETA: 0s - loss: 0.0499 - mae: 0.1581\n",
            "Epoch 11: val_loss did not improve from 0.05241\n",
            "94671/94671 [==============================] - 1969s 21ms/step - loss: 0.0499 - mae: 0.1581 - val_loss: 0.0525 - val_mae: 0.1631\n",
            "Epoch 12/12\n",
            "94666/94671 [============================>.] - ETA: 0s - loss: 0.0498 - mae: 0.1579\n",
            "Epoch 12: val_loss did not improve from 0.05241\n",
            "94671/94671 [==============================] - 1972s 21ms/step - loss: 0.0498 - mae: 0.1579 - val_loss: 0.0526 - val_mae: 0.1619\n"
          ]
        }
      ]
    },
    {
      "cell_type": "code",
      "source": [
        "# Evaluate the Model\n",
        "test_loss, test_mae = model.evaluate(test_generator)\n",
        "print(f\"Test MAE: {test_mae}\")"
      ],
      "metadata": {
        "id": "MfYVlH7sDX6v",
        "colab": {
          "base_uri": "https://localhost:8080/"
        },
        "outputId": "182d62f2-db7c-4569-e94a-c14fbc55adf5"
      },
      "execution_count": null,
      "outputs": [
        {
          "output_type": "stream",
          "name": "stdout",
          "text": [
            "20/20 [==============================] - 0s 23ms/step - loss: 161.7477 - mae: 3.0546\n",
            "Test MAE: 3.0546345710754395\n"
          ]
        }
      ]
    },
    {
      "cell_type": "code",
      "source": [
        "model.save('/content/drive/MyDrive/saved_models/chess_model_end.h5')"
      ],
      "metadata": {
        "id": "ipEUWdQcDY8O",
        "colab": {
          "base_uri": "https://localhost:8080/"
        },
        "outputId": "15dd5c1a-e008-469d-f633-5598286538bb"
      },
      "execution_count": null,
      "outputs": [
        {
          "output_type": "stream",
          "name": "stderr",
          "text": [
            "/usr/local/lib/python3.10/dist-packages/keras/src/engine/training.py:3103: UserWarning: You are saving your model as an HDF5 file via `model.save()`. This file format is considered legacy. We recommend using instead the native Keras format, e.g. `model.save('my_model.keras')`.\n",
            "  saving_api.save_model(\n"
          ]
        }
      ]
    }
  ]
}